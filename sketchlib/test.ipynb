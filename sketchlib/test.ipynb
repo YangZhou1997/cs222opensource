{
 "cells": [
  {
   "cell_type": "code",
   "execution_count": 207,
   "metadata": {},
   "outputs": [],
   "source": [
    "from sketch_coding_maxsketch_pruning_signed import  sketch_encoding, sketch_decoding\n",
    "import numpy as np\n",
    "import sys\n",
    "import ctypes\n",
    "import matplotlib.pyplot as plt\n"
   ]
  },
  {
   "cell_type": "code",
   "execution_count": 213,
   "metadata": {},
   "outputs": [
    {
     "name": "stdout",
     "output_type": "stream",
     "text": [
      "0.42383707\n",
      "0.003311227075755596\n",
      "128\n",
      "36864\n"
     ]
    },
    {
     "data": {
      "image/png": "[encoded data removed]",
      "text/plain": [
       "<Figure size 432x288 with 1 Axes>"
      ]
     },
     "metadata": {
      "needs_background": "light"
     },
     "output_type": "display_data"
    },
    {
     "data": {
      "text/plain": [
       "636"
      ]
     },
     "execution_count": 213,
     "metadata": {},
     "output_type": "execute_result"
    }
   ],
   "source": [
    "com_ratio = 0.5\n",
    "base = 8\n",
    "half_base_mask = 1<<(base-1)\n",
    "\n",
    "\n",
    "# M = np.random.uniform(-half_base_mask * float_step, (half_base_mask - 1) * float_step, size=(shape1, shape1))\n",
    "np.set_printoptions(threshold=np.nan)\n",
    "\n",
    "M = np.load( \"../test_weight.npy\" )\n",
    "max_abs = np.max(np.abs(M))\n",
    "print(max_abs)\n",
    "float_step = max_abs / (2**(base-1))\n",
    "print(float_step)\n",
    "M_int = (M/float_step).astype(int).reshape(-1)\n",
    "print(np.max(M_int))\n",
    "print(M_int.size)\n",
    "\n",
    "plt.hist(M_int, bins=64)\n",
    "plt.show()\n",
    "np.sum(M_int > 48)"
   ]
  },
  {
   "cell_type": "code",
   "execution_count": 209,
   "metadata": {},
   "outputs": [
    {
     "name": "stdout",
     "output_type": "stream",
     "text": [
      "128\n"
     ]
    },
    {
     "data": {
      "image/png": "[encoded data removed]",
      "text/plain": [
       "<Figure size 432x288 with 1 Axes>"
      ]
     },
     "metadata": {
      "needs_background": "light"
     },
     "output_type": "display_data"
    }
   ],
   "source": [
    "#M1 = sketch_transform(M, base, com_ratio, float_step)\n",
    "#print((M1/float_step).astype(int))\n",
    "\n",
    "sketch, indicator = sketch_encoding(M, base, com_ratio, float_step)\n",
    "M1 = sketch_decoding(sketch, indicator, base, com_ratio, float_step)\n",
    "\n",
    "\n",
    "M1_int = (M1/float_step).astype(int).reshape(-1)\n",
    "print(np.max(M1_int))\n",
    "plt.hist(M1_int, bins=64)\n",
    "plt.show()"
   ]
  },
  {
   "cell_type": "code",
   "execution_count": 210,
   "metadata": {},
   "outputs": [],
   "source": [
    "def count_false(_M, _M1, _float_step):\n",
    "    _M = (_M/float_step).astype(int)\n",
    "    _M1 = (_M1/float_step).astype(int)\n",
    "\n",
    "    Diff = (_M != _M1)\n",
    "    print(np.sum(np.sum(Diff)) / (_M1.shape[0]* _M1.shape[1]))\n",
    "\n"
   ]
  },
  {
   "cell_type": "code",
   "execution_count": 211,
   "metadata": {},
   "outputs": [
    {
     "name": "stdout",
     "output_type": "stream",
     "text": [
      "0.21885850694444445\n"
     ]
    }
   ],
   "source": [
    "count_false(M, M1, float_step)"
   ]
  },
  {
   "cell_type": "code",
   "execution_count": 212,
   "metadata": {},
   "outputs": [
    {
     "data": {
      "image/png": "[encoded data removed]",
      "text/plain": [
       "<Figure size 432x288 with 1 Axes>"
      ]
     },
     "metadata": {
      "needs_background": "light"
     },
     "output_type": "display_data"
    }
   ],
   "source": [
    "error = np.abs(M_int - M1_int)\n",
    "\n",
    "error = error[np.nonzero(error)]\n",
    "plt.hist(error, bins=64)\n",
    "plt.show()"
   ]
  },
  {
   "cell_type": "code",
   "execution_count": null,
   "metadata": {},
   "outputs": [],
   "source": []
  },
  {
   "cell_type": "code",
   "execution_count": null,
   "metadata": {},
   "outputs": [],
   "source": []
  },
  {
   "cell_type": "code",
   "execution_count": null,
   "metadata": {},
   "outputs": [],
   "source": []
  }
 ],
 "metadata": {
  "kernelspec": {
   "display_name": "Python 3",
   "language": "python",
   "name": "python3"
  },
  "language_info": {
   "codemirror_mode": {
    "name": "ipython",
    "version": 3
   },
   "file_extension": ".py",
   "mimetype": "text/x-python",
   "name": "python",
   "nbconvert_exporter": "python",
   "pygments_lexer": "ipython3",
   "version": "3.6.7"
  }
 },
 "nbformat": 4,
 "nbformat_minor": 2
}
